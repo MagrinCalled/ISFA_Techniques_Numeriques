{
 "cells": [
  {
   "cell_type": "code",
   "execution_count": 2,
   "id": "2fdfc7b9",
   "metadata": {},
   "outputs": [],
   "source": [
    "import matplotlib.pyplot as plt\n",
    "import finoptions as fin\n",
    "import scipy.stats as stats\n",
    "import numpy as np\n",
    "from joblib import Parallel, delayed"
   ]
  },
  {
   "cell_type": "markdown",
   "id": "cf0260ef",
   "metadata": {},
   "source": [
    "# TP 3"
   ]
  },
  {
   "cell_type": "markdown",
   "id": "27640f36",
   "metadata": {},
   "source": [
    "## Exercice 1"
   ]
  },
  {
   "cell_type": "code",
   "execution_count": 3,
   "id": "cc027e62",
   "metadata": {},
   "outputs": [],
   "source": [
    "def poisson(l, T):\n",
    "    n = np.random.poisson(l * T)\n",
    "    t = np.sort(np.random.uniform(0, T, n))\n",
    "    t = np.insert(t, 0, 0)\n",
    "    N = np.arange(n + 1)\n",
    "    return t, N"
   ]
  },
  {
   "cell_type": "code",
   "execution_count": 4,
   "id": "1e1dccfc",
   "metadata": {},
   "outputs": [
    {
     "data": {
      "image/png": "[encoded data removed]",
      "text/plain": [
       "<Figure size 640x480 with 1 Axes>"
      ]
     },
     "metadata": {},
     "output_type": "display_data"
    }
   ],
   "source": [
    "t, N = poisson(0.5, 10)\n",
    "plt.step(t, N, where=\"post\")\n",
    "plt.show()"
   ]
  },
  {
   "cell_type": "code",
   "execution_count": 5,
   "id": "4bf27b83",
   "metadata": {},
   "outputs": [],
   "source": [
    "def poisson_binom(l, T, N, p):\n",
    "    n = np.random.poisson(l * T)\n",
    "    t = np.insert(np.sort(np.random.uniform(0, T, n)), 0, 0)\n",
    "    jumps = np.random.binomial(N, p, size=n)\n",
    "    process = np.insert(np.cumsum(jumps), 0, 0)\n",
    "\n",
    "    return t, process"
   ]
  },
  {
   "cell_type": "code",
   "execution_count": 6,
   "id": "908ddfb3",
   "metadata": {},
   "outputs": [
    {
     "data": {
      "image/png": "[encoded data removed]",
      "text/plain": [
       "<Figure size 640x480 with 1 Axes>"
      ]
     },
     "metadata": {},
     "output_type": "display_data"
    }
   ],
   "source": [
    "t, N = poisson_binom(0.5, 10, 5, 0.3)\n",
    "plt.step(t, N, where='post')\n",
    "plt.show()"
   ]
  },
  {
   "cell_type": "code",
   "execution_count": 7,
   "id": "93457eb1",
   "metadata": {},
   "outputs": [],
   "source": [
    "def terminal(n, l, T, N, p):\n",
    "    term = np.zeros(n)\n",
    "    for i in range(n):\n",
    "        term[i] = poisson_binom(l, T, N, p)[1][-1]\n",
    "    return term"
   ]
  },
  {
   "cell_type": "code",
   "execution_count": 8,
   "id": "ad7a2694",
   "metadata": {},
   "outputs": [],
   "source": [
    "n = 100_000\n",
    "q = stats.norm.ppf(0.995)"
   ]
  },
  {
   "cell_type": "code",
   "execution_count": 9,
   "id": "64204fdd",
   "metadata": {},
   "outputs": [
    {
     "name": "stdout",
     "output_type": "stream",
     "text": [
      "0.01058\n",
      "[0.00974661 0.01141339]\n"
     ]
    }
   ],
   "source": [
    "X_T = terminal(n, 2, 10, 5, 0.3)\n",
    "f_S = X_T > 50\n",
    "IC = np.mean(f_S) + q * np.array((-np.std(f_S)/np.sqrt(n), np.std(f_S)/np.sqrt(n)))\n",
    "print(np.mean(f_S))\n",
    "print(IC)"
   ]
  },
  {
   "cell_type": "markdown",
   "id": "bf0cd5a9",
   "metadata": {},
   "source": [
    "## Exercice 2"
   ]
  },
  {
   "cell_type": "markdown",
   "id": "5771aeec",
   "metadata": {},
   "source": [
    "$$ X_t = x + \\mu t + \\sigma B_t + \\sum_{i = 1}^{N_t}Y_i Z_i $$\n",
    "Avec $(N_t)_t$ un processus de poisson de paramètre $\\lambda = \\frac13$, $(Y_i)_i$ iid de loi $\\frac12\\delta_{-1} + \\frac12\\delta_{+1}$, et les $(Z_i)_i$ suivent une loi de poisson de paramètre $\\lambda_Z = 4$.\n",
    "\n",
    "Par la suite on prendra $x=100,~~\\mu = 0.05,~~\\sigma=0.2,~~T=5$."
   ]
  },
  {
   "cell_type": "code",
   "execution_count": 10,
   "id": "ad4dd911",
   "metadata": {},
   "outputs": [],
   "source": [
    "def sauts(l=1/3, T=5):\n",
    "    num_jumps = np.random.poisson(l * T)\n",
    "    times = np.sort(np.random.uniform(0, T, num_jumps))\n",
    "    return times"
   ]
  },
  {
   "cell_type": "code",
   "execution_count": 11,
   "id": "52871d8d",
   "metadata": {},
   "outputs": [],
   "source": [
    "def compose_poisson(jump_times, l=1/3, l_Z=4, T=5):\n",
    "    N_T = len(jump_times)\n",
    "\n",
    "    Y = 2 * np.random.randint(0, 2, size=N_T) - 1\n",
    "    Z = np.random.poisson(l_Z, size=N_T)\n",
    "\n",
    "    times = np.insert(jump_times, 0, 0)\n",
    "    process = np.insert(np.cumsum(Y * Z), 0, 0)\n",
    "\n",
    "    return times, process"
   ]
  },
  {
   "cell_type": "code",
   "execution_count": 12,
   "id": "2164563d",
   "metadata": {},
   "outputs": [
    {
     "data": {
      "text/plain": [
       "(array([0.        , 1.15654412, 3.32655308]), array([  0,  -6, -14]))"
      ]
     },
     "execution_count": 12,
     "metadata": {},
     "output_type": "execute_result"
    }
   ],
   "source": [
    "compose_poisson(sauts())"
   ]
  },
  {
   "cell_type": "code",
   "execution_count": 13,
   "id": "7ef9d71b",
   "metadata": {},
   "outputs": [],
   "source": [
    "def traj(l=1/3, l_Z=4, T=5, x=100, mu=0.05, sigma=0.2, steps=100):\n",
    "    jump_times = sauts(l, T)\n",
    "    jumps = compose_poisson(jump_times, l, l_Z, T)[1]\n",
    "    time_interval = np.concatenate(([0], jump_times, [T])) #est de la forme [0, T_1, T_2, ..., T_Final, T] avec T_i les temps de saut\n",
    "\n",
    "    X = [x]\n",
    "    times = [0]\n",
    "    \n",
    "    for i in range(len(time_interval) - 1):\n",
    "        h = (time_interval[i + 1] - time_interval[i])/steps\n",
    "        for j in range(steps):\n",
    "            times.append(times[-1] + h)\n",
    "            X.append(X[-1] + mu * h + sigma * np.random.normal(0, 1) * np.sqrt(h))\n",
    "        X[-1] += jumps[i]\n",
    "    return times, X"
   ]
  },
  {
   "cell_type": "code",
   "execution_count": 14,
   "id": "4960de62",
   "metadata": {},
   "outputs": [
    {
     "data": {
      "image/png": "[encoded data removed]",
      "text/plain": [
       "<Figure size 640x480 with 1 Axes>"
      ]
     },
     "metadata": {},
     "output_type": "display_data"
    }
   ],
   "source": [
    "t, X = traj()\n",
    "plt.plot(t, X)\n",
    "plt.show()"
   ]
  },
  {
   "cell_type": "code",
   "execution_count": 15,
   "id": "86594816",
   "metadata": {},
   "outputs": [],
   "source": [
    "def terminal_state(l=1/3, l_Z=4, T=5, x=100, mu=0.05, sigma=0.2, steps=100):\n",
    "    return traj(l, l_Z, T, x, mu, sigma, steps)[1][-1]"
   ]
  },
  {
   "cell_type": "code",
   "execution_count": 16,
   "id": "0ae5f14c",
   "metadata": {},
   "outputs": [],
   "source": [
    "def V_estim(n=100_000, l=1/3, l_Z=4, T=5, x=100, mu=0.05, sigma=0.2, steps=100, K=110, r=0.01):\n",
    "    vals_X_T = np.array(Parallel(n_jobs=-1)(delayed(terminal_state)(l, l_Z, T, x, mu, sigma, steps)  for _ in range(n)))\n",
    "    f_X = np.exp(-r * T) * np.maximum(K - vals_X_T, 0)\n",
    "\n",
    "    V = np.mean(f_X)\n",
    "\n",
    "    return V, V + 1.96 * np.array((-np.std(f_X)/np.sqrt(n), np.std(f_X)/np.sqrt(n)))"
   ]
  },
  {
   "cell_type": "code",
   "execution_count": 17,
   "id": "11d0f72c",
   "metadata": {},
   "outputs": [],
   "source": [
    "V, IC = V_estim()"
   ]
  },
  {
   "cell_type": "code",
   "execution_count": 18,
   "id": "dd2aa3d3",
   "metadata": {},
   "outputs": [
    {
     "name": "stdout",
     "output_type": "stream",
     "text": [
      "10.56843234153391 [10.5115523  10.62531238]\n"
     ]
    }
   ],
   "source": [
    "print(V, IC)"
   ]
  },
  {
   "cell_type": "code",
   "execution_count": 19,
   "id": "6107a779",
   "metadata": {},
   "outputs": [],
   "source": [
    "S0 = 100\n",
    "mu, mu_tilde = 0.07, 0.05\n",
    "sigma, sigma_tilde = 0.3, 0.2\n",
    "T = 10\n",
    "l = 1\n",
    "kappa = np.exp(mu_tilde) - 1"
   ]
  },
  {
   "cell_type": "markdown",
   "id": "420e5b9f",
   "metadata": {},
   "source": [
    "On a d'après le cours\n",
    "\n",
    "\\begin{equation*}\n",
    "S_t = S_0\\exp{\\left(\\left\\{ \\mu - \\lambda\\kappa -\\frac{\\sigma^2}2 \\right\\}t + \\sigma B_t\\right)}\\Pi_{i=1}^{N_t}\\tilde{Y}_i\n",
    "\\end{equation*}"
   ]
  },
  {
   "cell_type": "markdown",
   "id": "f5f673d5",
   "metadata": {},
   "source": [
    "Avec $N_t \\sim \\textit{Pois}(\\lambda t)$, $B_t \\sim \\mathcal{N}(0,~t)$ et $\\ln\\tilde{Y}_i=\\ln Y_{t_i}\\sim \\mathcal{N}(\\tilde{\\mu}+\\frac12\\tilde{\\sigma}^2,~\\tilde{\\sigma}^2)$"
   ]
  },
  {
   "cell_type": "code",
   "execution_count": 37,
   "id": "de0d1a30",
   "metadata": {},
   "outputs": [],
   "source": [
    "def explicite(n):\n",
    "    N_T = np.random.poisson(l * T, n)\n",
    "    prod = np.zeros(n)\n",
    "    for i in range(n):\n",
    "        if N_T[i] > 0:\n",
    "            Y = np.exp(np.random.normal(mu_tilde + 0.5 * sigma_tilde**2, sigma_tilde, N_T[i]))\n",
    "            prod[i] = np.prod(Y)\n",
    "        else:\n",
    "            prod[i] = 1\n",
    "    \n",
    "\n",
    "    simul_T = S0 * np.exp( (mu - l * kappa - 0.5 * sigma**2) * T + sigma * np.sqrt(T) * np.random.normal(0, 1, n) ) * prod\n",
    "\n",
    "    N_mid = np.random.poisson(l * T/2, n)\n",
    "    prod_mid = np.zeros(n)\n",
    "    for i in range(n):\n",
    "        if N_mid[i] > 0:\n",
    "            Y = np.exp(np.random.normal(mu_tilde + 0.5 * sigma_tilde**2, sigma_tilde, N_mid[i]))\n",
    "            prod_mid[i] = np.prod(Y)\n",
    "        else:\n",
    "            prod_mid[i] = 1\n",
    "    simul_mid = S0 * np.exp( (mu - l * kappa - 0.5 * sigma**2) * T/2 + sigma * np.sqrt(T/2) * np.random.normal(0, 1, n) ) * prod_mid\n",
    "\n",
    "    V = np.maximum(simul_mid, simul_T)\n",
    "\n",
    "    return np.mean(V), np.mean(V) + stats.norm.ppf(0.995) * np.array((-np.std(V), np.std(V)))/np.sqrt(n)"
   ]
  },
  {
   "cell_type": "code",
   "execution_count": 45,
   "id": "eddbbcc5",
   "metadata": {},
   "outputs": [],
   "source": [
    "n = 1_000_000\n",
    "pay_off, IC_99 = explicite(n)"
   ]
  },
  {
   "cell_type": "code",
   "execution_count": 46,
   "id": "8fdbad84",
   "metadata": {},
   "outputs": [
    {
     "name": "stdout",
     "output_type": "stream",
     "text": [
      "Estimation pour n = 1000000 simulations : 378.8493808225781 \n",
      "IC au niveau 1% : [377.35483277 380.34392888].\n"
     ]
    }
   ],
   "source": [
    "print(f\"Estimation pour n = {n} simulations : {pay_off} \\nIC au niveau 1% : {IC_99}.\")"
   ]
  }
 ],
 "metadata": {
  "kernelspec": {
   "display_name": "venv",
   "language": "python",
   "name": "python3"
  },
  "language_info": {
   "codemirror_mode": {
    "name": "ipython",
    "version": 3
   },
   "file_extension": ".py",
   "mimetype": "text/x-python",
   "name": "python",
   "nbconvert_exporter": "python",
   "pygments_lexer": "ipython3",
   "version": "3.13.6"
  }
 },
 "nbformat": 4,
 "nbformat_minor": 5
}
